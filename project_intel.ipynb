{
 "cells": [
  {
   "cell_type": "code",
   "execution_count": 38,
   "metadata": {},
   "outputs": [],
   "source": [
    "import pandas as pd\n",
    "import os, sys"
   ]
  },
  {
   "cell_type": "code",
   "execution_count": 39,
   "metadata": {},
   "outputs": [],
   "source": [
    "class RBP:\n",
    "    def __init__(self,name,concentrations):\n",
    "        self.name = name\n",
    "        self.concentrations = concentrations"
   ]
  },
  {
   "cell_type": "code",
   "execution_count": 40,
   "metadata": {},
   "outputs": [
    {
     "data": {
      "text/plain": [
       "['RBP1_1300nM.seq', 'RBP1_input.seq']"
      ]
     },
     "execution_count": 40,
     "metadata": {},
     "output_type": "execute_result"
    }
   ],
   "source": [
    "files = os.listdir('RBNS_training')+os.listdir('RBNS_testing')\n",
    "FILES = [file for file in files if  file.startswith(\"RBP1_\")]\n",
    "FILES"
   ]
  },
  {
   "cell_type": "code",
   "execution_count": 41,
   "metadata": {},
   "outputs": [],
   "source": [
    "def generate_data(i,names):\n",
    "    concentrations = list()\n",
    "    for name in names: \n",
    "        if i > 16:\n",
    "            addres =  'RBNS_testing/RBP{}_{}.seq'.format(i ,name) \n",
    "        else :\n",
    "            addres =  'RBNS_training/RBP{}_{}.seq'.format(i ,name)\n",
    "        print(\"reading \" + addres)\n",
    "        df = pd.read_csv(addres, sep=\"\\t\",usecols=[0],names=['sequence'])\n",
    "        print(\"shape with N = \" + df.shape)\n",
    "        df = [seq for seq in df['sequence'] if all(ch != 'N' for ch in seq)] \n",
    "        df = pd.DataFrame(data=df,columns=['sequence'])\n",
    "        print(\"shape without N = \"+ df.shape)\n",
    "        concentrations.append(df)\n",
    "    return concentrations \n",
    "\n",
    "def label_data(RBP,labels):\n",
    "    for j  in range(0,len(RBP)): \n",
    "        RBP[j]['label'] = labels[j]\n",
    "    return RBP\n",
    "\n",
    "def merge_data(RBP):\n",
    "    data = RBP[0]\n",
    "    for j  in range(1,len(RBP)): \n",
    "        data = data.append(RBP[j], ignore_index=True)\n",
    "    return data\n",
    "\n"
   ]
  },
  {
   "cell_type": "code",
   "execution_count": 42,
   "metadata": {},
   "outputs": [],
   "source": [
    "import numpy as np\n",
    "# from string import maketrans    # in python free use str.maketrans isntead\n",
    "\n",
    "def oneHot(string):\n",
    "\ttrantab=str.maketrans('ACGTU','01233')\n",
    "\tstring=str(string)\n",
    "\tdata=[int(x) for x in list(string.translate(trantab))]\n",
    "\treturn np.eye(4)[data]"
   ]
  },
  {
   "cell_type": "code",
   "execution_count": 44,
   "metadata": {},
   "outputs": [
    {
     "name": "stdout",
     "output_type": "stream",
     "text": [
      "reading RBNS_training/RBP1_input.seq\n",
      "(19572050, 1)\n",
      "(19557759, 1)\n",
      "reading RBNS_training/RBP1_1300nM.seq\n",
      "(17443521, 1)\n",
      "(17430737, 1)\n"
     ]
    },
    {
     "data": {
      "text/html": [
       "<div>\n",
       "<style scoped>\n",
       "    .dataframe tbody tr th:only-of-type {\n",
       "        vertical-align: middle;\n",
       "    }\n",
       "\n",
       "    .dataframe tbody tr th {\n",
       "        vertical-align: top;\n",
       "    }\n",
       "\n",
       "    .dataframe thead th {\n",
       "        text-align: right;\n",
       "    }\n",
       "</style>\n",
       "<table border=\"1\" class=\"dataframe\">\n",
       "  <thead>\n",
       "    <tr style=\"text-align: right;\">\n",
       "      <th></th>\n",
       "      <th>sequence</th>\n",
       "      <th>label</th>\n",
       "    </tr>\n",
       "  </thead>\n",
       "  <tbody>\n",
       "    <tr>\n",
       "      <th>18667807</th>\n",
       "      <td>TGCAGTTGTCAACATTTCCA</td>\n",
       "      <td>0</td>\n",
       "    </tr>\n",
       "    <tr>\n",
       "      <th>18915317</th>\n",
       "      <td>CGTTATGTAGTTGAGGCGTA</td>\n",
       "      <td>0</td>\n",
       "    </tr>\n",
       "    <tr>\n",
       "      <th>35623937</th>\n",
       "      <td>AGAAGCAGGACACGTATAGT</td>\n",
       "      <td>1</td>\n",
       "    </tr>\n",
       "    <tr>\n",
       "      <th>36502215</th>\n",
       "      <td>CCGGCATGATGGAGGTAGAT</td>\n",
       "      <td>1</td>\n",
       "    </tr>\n",
       "    <tr>\n",
       "      <th>29900718</th>\n",
       "      <td>AATCCGAAACACTTAGCAGG</td>\n",
       "      <td>1</td>\n",
       "    </tr>\n",
       "    <tr>\n",
       "      <th>...</th>\n",
       "      <td>...</td>\n",
       "      <td>...</td>\n",
       "    </tr>\n",
       "    <tr>\n",
       "      <th>3556295</th>\n",
       "      <td>TCAAATCAAGGCTAGCTATT</td>\n",
       "      <td>0</td>\n",
       "    </tr>\n",
       "    <tr>\n",
       "      <th>3336260</th>\n",
       "      <td>GGTTAGAAAGGGAAAAACGT</td>\n",
       "      <td>0</td>\n",
       "    </tr>\n",
       "    <tr>\n",
       "      <th>13000270</th>\n",
       "      <td>AAGCTACTATGACTCTCTAT</td>\n",
       "      <td>0</td>\n",
       "    </tr>\n",
       "    <tr>\n",
       "      <th>27208947</th>\n",
       "      <td>AGATACACGCATACCACTGA</td>\n",
       "      <td>1</td>\n",
       "    </tr>\n",
       "    <tr>\n",
       "      <th>18571099</th>\n",
       "      <td>TTGTCGCGTGTTTAATCGAG</td>\n",
       "      <td>0</td>\n",
       "    </tr>\n",
       "  </tbody>\n",
       "</table>\n",
       "<p>36988496 rows × 2 columns</p>\n",
       "</div>"
      ],
      "text/plain": [
       "                      sequence  label\n",
       "18667807  TGCAGTTGTCAACATTTCCA      0\n",
       "18915317  CGTTATGTAGTTGAGGCGTA      0\n",
       "35623937  AGAAGCAGGACACGTATAGT      1\n",
       "36502215  CCGGCATGATGGAGGTAGAT      1\n",
       "29900718  AATCCGAAACACTTAGCAGG      1\n",
       "...                        ...    ...\n",
       "3556295   TCAAATCAAGGCTAGCTATT      0\n",
       "3336260   GGTTAGAAAGGGAAAAACGT      0\n",
       "13000270  AAGCTACTATGACTCTCTAT      0\n",
       "27208947  AGATACACGCATACCACTGA      1\n",
       "18571099  TTGTCGCGTGTTTAATCGAG      0\n",
       "\n",
       "[36988496 rows x 2 columns]"
      ]
     },
     "execution_count": 44,
     "metadata": {},
     "output_type": "execute_result"
    }
   ],
   "source": [
    "i = 1 #RBPi 1<i<31\n",
    "names = ['input','1300nM']\n",
    "labels = [0,1]\n",
    "RBP1 = generate_data(i,names)\n",
    "RBP1 = label_data(RBP1,labels)\n",
    "RBP1 = merge_data(RBP1)\n",
    "RBP1 = RBP1.sample(frac=1)\n",
    "RBP1"
   ]
  },
  {
   "cell_type": "code",
   "execution_count": 45,
   "metadata": {},
   "outputs": [],
   "source": [
    "X = RBP1[\"sequence\"]\n",
    "Y = np.array(RBP1[\"label\"])"
   ]
  },
  {
   "cell_type": "code",
   "execution_count": 55,
   "metadata": {},
   "outputs": [
    {
     "data": {
      "text/plain": [
       "(36988496, 20, 4)"
      ]
     },
     "execution_count": 55,
     "metadata": {},
     "output_type": "execute_result"
    }
   ],
   "source": [
    "X = np.array(list(map(oneHot,X)))\n",
    "X.shape"
   ]
  },
  {
   "cell_type": "code",
   "execution_count": 48,
   "metadata": {},
   "outputs": [],
   "source": [
    "y_result = pd.read_csv('RNCMPT_training/RBP{}.txt'.format(i), sep=\"\\t\", header=None)\n",
    "y_result = np.asarray(y_result)\n",
    "x_result= pd.read_csv('RNCMPT_training/seq.txt', sep=\"\\t\", header=None)"
   ]
  },
  {
   "cell_type": "code",
   "execution_count": 54,
   "metadata": {},
   "outputs": [],
   "source": [
    "max_seq = len(max(x_result[0],key=len))\n",
    "x_result =list(map(oneHot,x_result[0]))\n",
    "padding_x_result = [np.pad(sequence, [(0,max_seq-len(sequence)),(0,0)], constant_values=0.25) for sequence in x_result]\n",
    "padding_x_result = np.asarray(padding_x_result)\n",
    "x_result = [seq[j:j+20] for j in range(0,22) for seq in padding_x_result]\n",
    "x_result = np.asarray(x_result)"
   ]
  },
  {
   "cell_type": "code",
   "execution_count": 60,
   "metadata": {},
   "outputs": [
    {
     "name": "stdout",
     "output_type": "stream",
     "text": [
      "(241357, 41, 4)\n",
      "(5309854, 20, 4)\n"
     ]
    }
   ],
   "source": [
    "print(padding_x_result.shape)\n",
    "print(x_result.shape)"
   ]
  },
  {
   "cell_type": "code",
   "execution_count": 62,
   "metadata": {},
   "outputs": [],
   "source": [
    "y_predict = np.split(y_predict,y_result.shape[0])\n",
    "y_pred = [np.mean(result) for result in y_predict]"
   ]
  },
  {
   "cell_type": "code",
   "execution_count": null,
   "metadata": {},
   "outputs": [],
   "source": [
    "from scipy.stats.stats import pearsonr \n",
    "print(pearsonr(y_result,y_pred.reshape(len(y_pred))))"
   ]
  }
 ],
 "metadata": {
  "kernelspec": {
   "display_name": "Python 3",
   "language": "python",
   "name": "python3"
  },
  "language_info": {
   "codemirror_mode": {
    "name": "ipython",
    "version": 3
   },
   "file_extension": ".py",
   "mimetype": "text/x-python",
   "name": "python",
   "nbconvert_exporter": "python",
   "pygments_lexer": "ipython3",
   "version": "3.8.5"
  }
 },
 "nbformat": 4,
 "nbformat_minor": 4
}
